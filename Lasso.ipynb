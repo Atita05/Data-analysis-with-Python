{
 "cells": [
  {
   "cell_type": "markdown",
   "metadata": {},
   "source": [
    "# Assignment Number:2 ML"
   ]
  },
  {
   "cell_type": "markdown",
   "metadata": {},
   "source": [
    "1st step:- Loading libraries needed "
   ]
  },
  {
   "cell_type": "code",
   "execution_count": 1,
   "metadata": {},
   "outputs": [],
   "source": [
    "from sklearn.datasets import load_diabetes # given dataset\n",
    "from sklearn.model_selection import train_test_split # splitting data in 2 parts\n",
    "from sklearn.linear_model import LassoCV\n",
    "from sklearn.linear_model import Lasso # for lasso regression\n",
    "from sklearn.preprocessing import StandardScaler #for scaling the values\n",
    "import numpy as np\n"
   ]
  },
  {
   "cell_type": "markdown",
   "metadata": {},
   "source": [
    "2nd step:- Loading dataset of Diabets, \n",
    "\n",
    "Task 1:- \n",
    "\n",
    "Load the scikit-learn version of the diabetes dataset into your Jupyter notebook using the load_diabetes function"
   ]
  },
  {
   "cell_type": "code",
   "execution_count": 2,
   "metadata": {},
   "outputs": [],
   "source": [
    "Diabetes_data = load_diabetes()"
   ]
  },
  {
   "cell_type": "code",
   "execution_count": 3,
   "metadata": {},
   "outputs": [
    {
     "data": {
      "text/plain": [
       "{'data': array([[ 0.03807591,  0.05068012,  0.06169621, ..., -0.00259226,\n",
       "          0.01990842, -0.01764613],\n",
       "        [-0.00188202, -0.04464164, -0.05147406, ..., -0.03949338,\n",
       "         -0.06832974, -0.09220405],\n",
       "        [ 0.08529891,  0.05068012,  0.04445121, ..., -0.00259226,\n",
       "          0.00286377, -0.02593034],\n",
       "        ...,\n",
       "        [ 0.04170844,  0.05068012, -0.01590626, ..., -0.01107952,\n",
       "         -0.04687948,  0.01549073],\n",
       "        [-0.04547248, -0.04464164,  0.03906215, ...,  0.02655962,\n",
       "          0.04452837, -0.02593034],\n",
       "        [-0.04547248, -0.04464164, -0.0730303 , ..., -0.03949338,\n",
       "         -0.00421986,  0.00306441]]),\n",
       " 'target': array([151.,  75., 141., 206., 135.,  97., 138.,  63., 110., 310., 101.,\n",
       "         69., 179., 185., 118., 171., 166., 144.,  97., 168.,  68.,  49.,\n",
       "         68., 245., 184., 202., 137.,  85., 131., 283., 129.,  59., 341.,\n",
       "         87.,  65., 102., 265., 276., 252.,  90., 100.,  55.,  61.,  92.,\n",
       "        259.,  53., 190., 142.,  75., 142., 155., 225.,  59., 104., 182.,\n",
       "        128.,  52.,  37., 170., 170.,  61., 144.,  52., 128.,  71., 163.,\n",
       "        150.,  97., 160., 178.,  48., 270., 202., 111.,  85.,  42., 170.,\n",
       "        200., 252., 113., 143.,  51.,  52., 210.,  65., 141.,  55., 134.,\n",
       "         42., 111.,  98., 164.,  48.,  96.,  90., 162., 150., 279.,  92.,\n",
       "         83., 128., 102., 302., 198.,  95.,  53., 134., 144., 232.,  81.,\n",
       "        104.,  59., 246., 297., 258., 229., 275., 281., 179., 200., 200.,\n",
       "        173., 180.,  84., 121., 161.,  99., 109., 115., 268., 274., 158.,\n",
       "        107.,  83., 103., 272.,  85., 280., 336., 281., 118., 317., 235.,\n",
       "         60., 174., 259., 178., 128.,  96., 126., 288.,  88., 292.,  71.,\n",
       "        197., 186.,  25.,  84.,  96., 195.,  53., 217., 172., 131., 214.,\n",
       "         59.,  70., 220., 268., 152.,  47.,  74., 295., 101., 151., 127.,\n",
       "        237., 225.,  81., 151., 107.,  64., 138., 185., 265., 101., 137.,\n",
       "        143., 141.,  79., 292., 178.,  91., 116.,  86., 122.,  72., 129.,\n",
       "        142.,  90., 158.,  39., 196., 222., 277.,  99., 196., 202., 155.,\n",
       "         77., 191.,  70.,  73.,  49.,  65., 263., 248., 296., 214., 185.,\n",
       "         78.,  93., 252., 150.,  77., 208.,  77., 108., 160.,  53., 220.,\n",
       "        154., 259.,  90., 246., 124.,  67.,  72., 257., 262., 275., 177.,\n",
       "         71.,  47., 187., 125.,  78.,  51., 258., 215., 303., 243.,  91.,\n",
       "        150., 310., 153., 346.,  63.,  89.,  50.,  39., 103., 308., 116.,\n",
       "        145.,  74.,  45., 115., 264.,  87., 202., 127., 182., 241.,  66.,\n",
       "         94., 283.,  64., 102., 200., 265.,  94., 230., 181., 156., 233.,\n",
       "         60., 219.,  80.,  68., 332., 248.,  84., 200.,  55.,  85.,  89.,\n",
       "         31., 129.,  83., 275.,  65., 198., 236., 253., 124.,  44., 172.,\n",
       "        114., 142., 109., 180., 144., 163., 147.,  97., 220., 190., 109.,\n",
       "        191., 122., 230., 242., 248., 249., 192., 131., 237.,  78., 135.,\n",
       "        244., 199., 270., 164.,  72.,  96., 306.,  91., 214.,  95., 216.,\n",
       "        263., 178., 113., 200., 139., 139.,  88., 148.,  88., 243.,  71.,\n",
       "         77., 109., 272.,  60.,  54., 221.,  90., 311., 281., 182., 321.,\n",
       "         58., 262., 206., 233., 242., 123., 167.,  63., 197.,  71., 168.,\n",
       "        140., 217., 121., 235., 245.,  40.,  52., 104., 132.,  88.,  69.,\n",
       "        219.,  72., 201., 110.,  51., 277.,  63., 118.,  69., 273., 258.,\n",
       "         43., 198., 242., 232., 175.,  93., 168., 275., 293., 281.,  72.,\n",
       "        140., 189., 181., 209., 136., 261., 113., 131., 174., 257.,  55.,\n",
       "         84.,  42., 146., 212., 233.,  91., 111., 152., 120.,  67., 310.,\n",
       "         94., 183.,  66., 173.,  72.,  49.,  64.,  48., 178., 104., 132.,\n",
       "        220.,  57.]),\n",
       " 'frame': None,\n",
       " 'DESCR': '.. _diabetes_dataset:\\n\\nDiabetes dataset\\n----------------\\n\\nTen baseline variables, age, sex, body mass index, average blood\\npressure, and six blood serum measurements were obtained for each of n =\\n442 diabetes patients, as well as the response of interest, a\\nquantitative measure of disease progression one year after baseline.\\n\\n**Data Set Characteristics:**\\n\\n  :Number of Instances: 442\\n\\n  :Number of Attributes: First 10 columns are numeric predictive values\\n\\n  :Target: Column 11 is a quantitative measure of disease progression one year after baseline\\n\\n  :Attribute Information:\\n      - age     age in years\\n      - sex\\n      - bmi     body mass index\\n      - bp      average blood pressure\\n      - s1      tc, T-Cells (a type of white blood cells)\\n      - s2      ldl, low-density lipoproteins\\n      - s3      hdl, high-density lipoproteins\\n      - s4      tch, thyroid stimulating hormone\\n      - s5      ltg, lamotrigine\\n      - s6      glu, blood sugar level\\n\\nNote: Each of these 10 feature variables have been mean centered and scaled by the standard deviation times `n_samples` (i.e. the sum of squares of each column totals 1).\\n\\nSource URL:\\nhttps://www4.stat.ncsu.edu/~boos/var.select/diabetes.html\\n\\nFor more information see:\\nBradley Efron, Trevor Hastie, Iain Johnstone and Robert Tibshirani (2004) \"Least Angle Regression,\" Annals of Statistics (with discussion), 407-499.\\n(https://web.stanford.edu/~hastie/Papers/LARS/LeastAngle_2002.pdf)',\n",
       " 'feature_names': ['age',\n",
       "  'sex',\n",
       "  'bmi',\n",
       "  'bp',\n",
       "  's1',\n",
       "  's2',\n",
       "  's3',\n",
       "  's4',\n",
       "  's5',\n",
       "  's6'],\n",
       " 'data_filename': '/opt/anaconda3/lib/python3.8/site-packages/sklearn/datasets/data/diabetes_data.csv.gz',\n",
       " 'target_filename': '/opt/anaconda3/lib/python3.8/site-packages/sklearn/datasets/data/diabetes_target.csv.gz'}"
      ]
     },
     "execution_count": 3,
     "metadata": {},
     "output_type": "execute_result"
    }
   ],
   "source": [
    "Diabetes_data # checking the data"
   ]
  },
  {
   "cell_type": "markdown",
   "metadata": {},
   "source": [
    "Task 2:- \n",
    "\n",
    "Split the dataset into the training and test sets. You may use the function train_test_split in scikit-learn. Here and below use your birthday (in the format DDMM omitting leading zeros if any) as random_state."
   ]
  },
  {
   "cell_type": "code",
   "execution_count": 4,
   "metadata": {},
   "outputs": [],
   "source": [
    "X_train, X_test, y_train, y_test = train_test_split(Diabetes_data.data,\n",
    "Diabetes_data.target, random_state=811) #used DOB as 08/11 here"
   ]
  },
  {
   "cell_type": "code",
   "execution_count": 5,
   "metadata": {},
   "outputs": [
    {
     "data": {
      "text/plain": [
       "(331, 10)"
      ]
     },
     "execution_count": 5,
     "metadata": {},
     "output_type": "execute_result"
    }
   ],
   "source": [
    "X_train.shape #split the data in training set"
   ]
  },
  {
   "cell_type": "code",
   "execution_count": 6,
   "metadata": {},
   "outputs": [
    {
     "data": {
      "text/plain": [
       "(111, 10)"
      ]
     },
     "execution_count": 6,
     "metadata": {},
     "output_type": "execute_result"
    }
   ],
   "source": [
    "X_test.shape #split the data in test set"
   ]
  },
  {
   "cell_type": "markdown",
   "metadata": {},
   "source": [
    "# Using lasso  now on sklearn diabetes data"
   ]
  },
  {
   "cell_type": "markdown",
   "metadata": {},
   "source": [
    "Without using scaled data o/p is \n",
    "\n",
    "Task 3:- \n",
    "\n",
    "What is the training and test R2 for the Lasso model using the default parameters? \n",
    "\n",
    "How many features does this model use? \n",
    "\n",
    "What are the names of those features? \n",
    "\n",
    "using any scikit-learn functions."
   ]
  },
  {
   "cell_type": "code",
   "execution_count": 7,
   "metadata": {},
   "outputs": [],
   "source": [
    "LassoRegressor = Lasso().fit(X_train,y_train) # fitting X ad Y here\n"
   ]
  },
  {
   "cell_type": "markdown",
   "metadata": {},
   "source": [
    "R square training"
   ]
  },
  {
   "cell_type": "code",
   "execution_count": 8,
   "metadata": {},
   "outputs": [
    {
     "data": {
      "text/plain": [
       "0.3785113076142248"
      ]
     },
     "execution_count": 8,
     "metadata": {},
     "output_type": "execute_result"
    }
   ],
   "source": [
    "LassoRegressor.score(X_train,y_train)"
   ]
  },
  {
   "cell_type": "markdown",
   "metadata": {},
   "source": [
    "R square testing"
   ]
  },
  {
   "cell_type": "code",
   "execution_count": 9,
   "metadata": {},
   "outputs": [
    {
     "data": {
      "text/plain": [
       "0.3014305233139024"
      ]
     },
     "execution_count": 9,
     "metadata": {},
     "output_type": "execute_result"
    }
   ],
   "source": [
    "LassoRegressor.score(X_test,y_test)"
   ]
  },
  {
   "cell_type": "markdown",
   "metadata": {},
   "source": [
    "Number of feature used"
   ]
  },
  {
   "cell_type": "code",
   "execution_count": 10,
   "metadata": {},
   "outputs": [
    {
     "data": {
      "text/plain": [
       "2"
      ]
     },
     "execution_count": 10,
     "metadata": {},
     "output_type": "execute_result"
    }
   ],
   "source": [
    "np.sum(LassoRegressor.coef_!= 0)"
   ]
  },
  {
   "cell_type": "markdown",
   "metadata": {},
   "source": [
    "Feature used are"
   ]
  },
  {
   "cell_type": "code",
   "execution_count": 11,
   "metadata": {},
   "outputs": [
    {
     "data": {
      "text/plain": [
       "array(['bmi', 's5'], dtype='<U3')"
      ]
     },
     "execution_count": 11,
     "metadata": {},
     "output_type": "execute_result"
    }
   ],
   "source": [
    "Diab=np.array(Diabetes_data.feature_names)\n",
    "Diab[LassoRegressor.coef_!=0] # 2 features are here"
   ]
  },
  {
   "cell_type": "markdown",
   "metadata": {},
   "source": [
    "# Importing text fole from web"
   ]
  },
  {
   "cell_type": "markdown",
   "metadata": {},
   "source": [
    "Task 4:-\n",
    "\n",
    "\n",
    "Now load the original diabetes dataset from the web page given above. \n",
    "\n",
    "Choose the link diabetes data. \n",
    "\n",
    "Download the fileLoading the given site text file diabetic data "
   ]
  },
  {
   "cell_type": "code",
   "execution_count": 12,
   "metadata": {},
   "outputs": [],
   "source": [
    "import pandas as pd\n",
    "New_Diabetes_data = pd.read_csv(\"/Users/downloads/diabetes.data.txt\", delimiter = \"\\t\") # used delimiter coz its giving \\t in all columns n rows"
   ]
  },
  {
   "cell_type": "code",
   "execution_count": 13,
   "metadata": {},
   "outputs": [
    {
     "data": {
      "text/html": [
       "<div>\n",
       "<style scoped>\n",
       "    .dataframe tbody tr th:only-of-type {\n",
       "        vertical-align: middle;\n",
       "    }\n",
       "\n",
       "    .dataframe tbody tr th {\n",
       "        vertical-align: top;\n",
       "    }\n",
       "\n",
       "    .dataframe thead th {\n",
       "        text-align: right;\n",
       "    }\n",
       "</style>\n",
       "<table border=\"1\" class=\"dataframe\">\n",
       "  <thead>\n",
       "    <tr style=\"text-align: right;\">\n",
       "      <th></th>\n",
       "      <th>AGE</th>\n",
       "      <th>SEX</th>\n",
       "      <th>BMI</th>\n",
       "      <th>BP</th>\n",
       "      <th>S1</th>\n",
       "      <th>S2</th>\n",
       "      <th>S3</th>\n",
       "      <th>S4</th>\n",
       "      <th>S5</th>\n",
       "      <th>S6</th>\n",
       "      <th>Y</th>\n",
       "    </tr>\n",
       "  </thead>\n",
       "  <tbody>\n",
       "    <tr>\n",
       "      <th>0</th>\n",
       "      <td>59</td>\n",
       "      <td>2</td>\n",
       "      <td>32.1</td>\n",
       "      <td>101.00</td>\n",
       "      <td>157</td>\n",
       "      <td>93.2</td>\n",
       "      <td>38.0</td>\n",
       "      <td>4.00</td>\n",
       "      <td>4.8598</td>\n",
       "      <td>87</td>\n",
       "      <td>151</td>\n",
       "    </tr>\n",
       "    <tr>\n",
       "      <th>1</th>\n",
       "      <td>48</td>\n",
       "      <td>1</td>\n",
       "      <td>21.6</td>\n",
       "      <td>87.00</td>\n",
       "      <td>183</td>\n",
       "      <td>103.2</td>\n",
       "      <td>70.0</td>\n",
       "      <td>3.00</td>\n",
       "      <td>3.8918</td>\n",
       "      <td>69</td>\n",
       "      <td>75</td>\n",
       "    </tr>\n",
       "    <tr>\n",
       "      <th>2</th>\n",
       "      <td>72</td>\n",
       "      <td>2</td>\n",
       "      <td>30.5</td>\n",
       "      <td>93.00</td>\n",
       "      <td>156</td>\n",
       "      <td>93.6</td>\n",
       "      <td>41.0</td>\n",
       "      <td>4.00</td>\n",
       "      <td>4.6728</td>\n",
       "      <td>85</td>\n",
       "      <td>141</td>\n",
       "    </tr>\n",
       "    <tr>\n",
       "      <th>3</th>\n",
       "      <td>24</td>\n",
       "      <td>1</td>\n",
       "      <td>25.3</td>\n",
       "      <td>84.00</td>\n",
       "      <td>198</td>\n",
       "      <td>131.4</td>\n",
       "      <td>40.0</td>\n",
       "      <td>5.00</td>\n",
       "      <td>4.8903</td>\n",
       "      <td>89</td>\n",
       "      <td>206</td>\n",
       "    </tr>\n",
       "    <tr>\n",
       "      <th>4</th>\n",
       "      <td>50</td>\n",
       "      <td>1</td>\n",
       "      <td>23.0</td>\n",
       "      <td>101.00</td>\n",
       "      <td>192</td>\n",
       "      <td>125.4</td>\n",
       "      <td>52.0</td>\n",
       "      <td>4.00</td>\n",
       "      <td>4.2905</td>\n",
       "      <td>80</td>\n",
       "      <td>135</td>\n",
       "    </tr>\n",
       "    <tr>\n",
       "      <th>...</th>\n",
       "      <td>...</td>\n",
       "      <td>...</td>\n",
       "      <td>...</td>\n",
       "      <td>...</td>\n",
       "      <td>...</td>\n",
       "      <td>...</td>\n",
       "      <td>...</td>\n",
       "      <td>...</td>\n",
       "      <td>...</td>\n",
       "      <td>...</td>\n",
       "      <td>...</td>\n",
       "    </tr>\n",
       "    <tr>\n",
       "      <th>437</th>\n",
       "      <td>60</td>\n",
       "      <td>2</td>\n",
       "      <td>28.2</td>\n",
       "      <td>112.00</td>\n",
       "      <td>185</td>\n",
       "      <td>113.8</td>\n",
       "      <td>42.0</td>\n",
       "      <td>4.00</td>\n",
       "      <td>4.9836</td>\n",
       "      <td>93</td>\n",
       "      <td>178</td>\n",
       "    </tr>\n",
       "    <tr>\n",
       "      <th>438</th>\n",
       "      <td>47</td>\n",
       "      <td>2</td>\n",
       "      <td>24.9</td>\n",
       "      <td>75.00</td>\n",
       "      <td>225</td>\n",
       "      <td>166.0</td>\n",
       "      <td>42.0</td>\n",
       "      <td>5.00</td>\n",
       "      <td>4.4427</td>\n",
       "      <td>102</td>\n",
       "      <td>104</td>\n",
       "    </tr>\n",
       "    <tr>\n",
       "      <th>439</th>\n",
       "      <td>60</td>\n",
       "      <td>2</td>\n",
       "      <td>24.9</td>\n",
       "      <td>99.67</td>\n",
       "      <td>162</td>\n",
       "      <td>106.6</td>\n",
       "      <td>43.0</td>\n",
       "      <td>3.77</td>\n",
       "      <td>4.1271</td>\n",
       "      <td>95</td>\n",
       "      <td>132</td>\n",
       "    </tr>\n",
       "    <tr>\n",
       "      <th>440</th>\n",
       "      <td>36</td>\n",
       "      <td>1</td>\n",
       "      <td>30.0</td>\n",
       "      <td>95.00</td>\n",
       "      <td>201</td>\n",
       "      <td>125.2</td>\n",
       "      <td>42.0</td>\n",
       "      <td>4.79</td>\n",
       "      <td>5.1299</td>\n",
       "      <td>85</td>\n",
       "      <td>220</td>\n",
       "    </tr>\n",
       "    <tr>\n",
       "      <th>441</th>\n",
       "      <td>36</td>\n",
       "      <td>1</td>\n",
       "      <td>19.6</td>\n",
       "      <td>71.00</td>\n",
       "      <td>250</td>\n",
       "      <td>133.2</td>\n",
       "      <td>97.0</td>\n",
       "      <td>3.00</td>\n",
       "      <td>4.5951</td>\n",
       "      <td>92</td>\n",
       "      <td>57</td>\n",
       "    </tr>\n",
       "  </tbody>\n",
       "</table>\n",
       "<p>442 rows × 11 columns</p>\n",
       "</div>"
      ],
      "text/plain": [
       "     AGE  SEX   BMI      BP   S1     S2    S3    S4      S5   S6    Y\n",
       "0     59    2  32.1  101.00  157   93.2  38.0  4.00  4.8598   87  151\n",
       "1     48    1  21.6   87.00  183  103.2  70.0  3.00  3.8918   69   75\n",
       "2     72    2  30.5   93.00  156   93.6  41.0  4.00  4.6728   85  141\n",
       "3     24    1  25.3   84.00  198  131.4  40.0  5.00  4.8903   89  206\n",
       "4     50    1  23.0  101.00  192  125.4  52.0  4.00  4.2905   80  135\n",
       "..   ...  ...   ...     ...  ...    ...   ...   ...     ...  ...  ...\n",
       "437   60    2  28.2  112.00  185  113.8  42.0  4.00  4.9836   93  178\n",
       "438   47    2  24.9   75.00  225  166.0  42.0  5.00  4.4427  102  104\n",
       "439   60    2  24.9   99.67  162  106.6  43.0  3.77  4.1271   95  132\n",
       "440   36    1  30.0   95.00  201  125.2  42.0  4.79  5.1299   85  220\n",
       "441   36    1  19.6   71.00  250  133.2  97.0  3.00  4.5951   92   57\n",
       "\n",
       "[442 rows x 11 columns]"
      ]
     },
     "execution_count": 13,
     "metadata": {},
     "output_type": "execute_result"
    }
   ],
   "source": [
    "#New_Diabetes_data = list(X_New) if isinstance(X, pd.DataFrame) else None\n",
    "New_Diabetes_data"
   ]
  },
  {
   "cell_type": "markdown",
   "metadata": {},
   "source": [
    "Task 5:- \n",
    "\n",
    "Split the dataset into the training and test sets. \n",
    "\n",
    "Use your birthday (in the format DDMM) as random_state."
   ]
  },
  {
   "cell_type": "code",
   "execution_count": 14,
   "metadata": {},
   "outputs": [],
   "source": [
    "X_New=New_Diabetes_data.drop('Y',axis=1)\n",
    "Y_new=New_Diabetes_data[['Y']].to_numpy()\n"
   ]
  },
  {
   "cell_type": "code",
   "execution_count": 15,
   "metadata": {},
   "outputs": [
    {
     "data": {
      "text/html": [
       "<div>\n",
       "<style scoped>\n",
       "    .dataframe tbody tr th:only-of-type {\n",
       "        vertical-align: middle;\n",
       "    }\n",
       "\n",
       "    .dataframe tbody tr th {\n",
       "        vertical-align: top;\n",
       "    }\n",
       "\n",
       "    .dataframe thead th {\n",
       "        text-align: right;\n",
       "    }\n",
       "</style>\n",
       "<table border=\"1\" class=\"dataframe\">\n",
       "  <thead>\n",
       "    <tr style=\"text-align: right;\">\n",
       "      <th></th>\n",
       "      <th>AGE</th>\n",
       "      <th>SEX</th>\n",
       "      <th>BMI</th>\n",
       "      <th>BP</th>\n",
       "      <th>S1</th>\n",
       "      <th>S2</th>\n",
       "      <th>S3</th>\n",
       "      <th>S4</th>\n",
       "      <th>S5</th>\n",
       "      <th>S6</th>\n",
       "    </tr>\n",
       "  </thead>\n",
       "  <tbody>\n",
       "    <tr>\n",
       "      <th>10</th>\n",
       "      <td>22</td>\n",
       "      <td>1</td>\n",
       "      <td>18.6</td>\n",
       "      <td>97.00</td>\n",
       "      <td>114</td>\n",
       "      <td>57.6</td>\n",
       "      <td>46.0</td>\n",
       "      <td>2.00</td>\n",
       "      <td>3.9512</td>\n",
       "      <td>83</td>\n",
       "    </tr>\n",
       "    <tr>\n",
       "      <th>300</th>\n",
       "      <td>53</td>\n",
       "      <td>1</td>\n",
       "      <td>33.2</td>\n",
       "      <td>82.67</td>\n",
       "      <td>186</td>\n",
       "      <td>106.8</td>\n",
       "      <td>46.0</td>\n",
       "      <td>4.04</td>\n",
       "      <td>5.1120</td>\n",
       "      <td>102</td>\n",
       "    </tr>\n",
       "    <tr>\n",
       "      <th>348</th>\n",
       "      <td>57</td>\n",
       "      <td>1</td>\n",
       "      <td>24.5</td>\n",
       "      <td>93.00</td>\n",
       "      <td>186</td>\n",
       "      <td>96.6</td>\n",
       "      <td>71.0</td>\n",
       "      <td>3.00</td>\n",
       "      <td>4.5218</td>\n",
       "      <td>91</td>\n",
       "    </tr>\n",
       "    <tr>\n",
       "      <th>272</th>\n",
       "      <td>52</td>\n",
       "      <td>1</td>\n",
       "      <td>27.0</td>\n",
       "      <td>78.33</td>\n",
       "      <td>134</td>\n",
       "      <td>73.0</td>\n",
       "      <td>44.0</td>\n",
       "      <td>3.05</td>\n",
       "      <td>4.4427</td>\n",
       "      <td>69</td>\n",
       "    </tr>\n",
       "    <tr>\n",
       "      <th>77</th>\n",
       "      <td>22</td>\n",
       "      <td>1</td>\n",
       "      <td>23.0</td>\n",
       "      <td>73.00</td>\n",
       "      <td>161</td>\n",
       "      <td>97.8</td>\n",
       "      <td>54.0</td>\n",
       "      <td>3.00</td>\n",
       "      <td>3.8286</td>\n",
       "      <td>91</td>\n",
       "    </tr>\n",
       "  </tbody>\n",
       "</table>\n",
       "</div>"
      ],
      "text/plain": [
       "     AGE  SEX   BMI     BP   S1     S2    S3    S4      S5   S6\n",
       "10    22    1  18.6  97.00  114   57.6  46.0  2.00  3.9512   83\n",
       "300   53    1  33.2  82.67  186  106.8  46.0  4.04  5.1120  102\n",
       "348   57    1  24.5  93.00  186   96.6  71.0  3.00  4.5218   91\n",
       "272   52    1  27.0  78.33  134   73.0  44.0  3.05  4.4427   69\n",
       "77    22    1  23.0  73.00  161   97.8  54.0  3.00  3.8286   91"
      ]
     },
     "execution_count": 15,
     "metadata": {},
     "output_type": "execute_result"
    }
   ],
   "source": [
    "x_train_New,x_test_New,y_train_New,y_test_New=train_test_split(X_New,Y_new,random_state=811)\n",
    "x_train_New.head()"
   ]
  },
  {
   "cell_type": "code",
   "execution_count": 16,
   "metadata": {},
   "outputs": [
    {
     "data": {
      "text/plain": [
       "(331, 10)"
      ]
     },
     "execution_count": 16,
     "metadata": {},
     "output_type": "execute_result"
    }
   ],
   "source": [
    "x_train_New.shape"
   ]
  },
  {
   "cell_type": "code",
   "execution_count": 17,
   "metadata": {},
   "outputs": [
    {
     "data": {
      "text/plain": [
       "(111, 10)"
      ]
     },
     "execution_count": 17,
     "metadata": {},
     "output_type": "execute_result"
    }
   ],
   "source": [
    "x_test_New.shape\n"
   ]
  },
  {
   "cell_type": "markdown",
   "metadata": {},
   "source": [
    "Task 6:- \n",
    "\n",
    "Repeat item 3 for the current dataset. \n",
    "\n",
    "Comment on the differences from what you saw in item 3."
   ]
  },
  {
   "cell_type": "code",
   "execution_count": 18,
   "metadata": {},
   "outputs": [
    {
     "name": "stdout",
     "output_type": "stream",
     "text": [
      "R^2 train =  0.5314316685206613\n",
      "R^2 test =  0.43929112671001047\n",
      "number of features used =  9\n",
      "The features used are ['age' 'sex' 'bmi' 'bp' 's1' 's2' 's3' 's5' 's6']\n"
     ]
    }
   ],
   "source": [
    "lasso = Lasso().fit(x_train_New,y_train_New)\n",
    "print(\"R^2 train = \",lasso.score(x_train_New,y_train_New))\n",
    "print(\"R^2 test = \",lasso.score(x_test_New,y_test_New))\n",
    "print(\"number of features used = \",np.sum(lasso.coef_!= 0))\n",
    "Diab_new=np.array(Diabetes_data.feature_names)\n",
    "Diab_new[LassoRegressor.coef_!=0] # 2 features are here\n",
    "print(\"The features used are\",Diab_new[lasso.coef_!=0])"
   ]
  },
  {
   "cell_type": "code",
   "execution_count": 19,
   "metadata": {},
   "outputs": [],
   "source": [
    "#New_Diabetes_data.feature_names"
   ]
  },
  {
   "cell_type": "markdown",
   "metadata": {},
   "source": [
    "task 7:- \n",
    "\n",
    "Preprocess the training and test sets in the same way and avoiding data snooping. \n",
    "\n",
    "Use StandardScaler."
   ]
  },
  {
   "cell_type": "markdown",
   "metadata": {},
   "source": [
    "# Next step:- Scaling X train and X test "
   ]
  },
  {
   "cell_type": "markdown",
   "metadata": {},
   "source": [
    "# First applying standard scalar on scikitlearn diabets dataset"
   ]
  },
  {
   "cell_type": "code",
   "execution_count": 20,
   "metadata": {},
   "outputs": [
    {
     "data": {
      "text/plain": [
       "StandardScaler()"
      ]
     },
     "execution_count": 20,
     "metadata": {},
     "output_type": "execute_result"
    }
   ],
   "source": [
    "scalerForTrainTest = StandardScaler()\n",
    "scalerForTrainTest.fit(X_train)"
   ]
  },
  {
   "cell_type": "code",
   "execution_count": 21,
   "metadata": {},
   "outputs": [],
   "source": [
    "# training set\n",
    "X_Train_scalerForTrain=scalerForTrainTest.transform(X_train)\n",
    "# testing set\n",
    "X_Test_scalerForTest=scalerForTrainTest.transform(X_test)\n"
   ]
  },
  {
   "cell_type": "markdown",
   "metadata": {},
   "source": [
    "with using standard scalar output is\n",
    "\n",
    "Task 8:- \n",
    "\n",
    "\n",
    "Repeat item 3 for the current training and test sets (which you should use in items 8–10). \n",
    "Are your current results closer to those in item 3 or item 6? \n",
    "Notice that a priori you would expect your current results to be closer to those in item 3,\n",
    "since the reason for different results in items 3 and 6 was that the former were for normalized data while the latter were for the original data. Is this expectation confirmed? If not, why?"
   ]
  },
  {
   "cell_type": "code",
   "execution_count": 22,
   "metadata": {},
   "outputs": [
    {
     "name": "stdout",
     "output_type": "stream",
     "text": [
      "R^2 train =  0.534514352819206\n",
      "R^2 test =  0.4469304720505879\n",
      "number of features used =  8\n",
      "The features used are ['age' 'sex' 'bmi' 'bp' 's1' 's3' 's5' 's6']\n"
     ]
    }
   ],
   "source": [
    "lasso = Lasso().fit(X_Train_scalerForTrain,y_train)\n",
    "print(\"R^2 train = \",lasso.score(X_Train_scalerForTrain,y_train))\n",
    "print(\"R^2 test = \",lasso.score(X_Test_scalerForTest,y_test))\n",
    "print(\"number of features used = \",np.sum(lasso.coef_!= 0))\n",
    "\n",
    "print(\"The features used are\",Diab[lasso.coef_!=0])"
   ]
  },
  {
   "cell_type": "markdown",
   "metadata": {},
   "source": [
    "# Applying stanardscalar on new web file diabetes.data.text now"
   ]
  },
  {
   "cell_type": "code",
   "execution_count": 23,
   "metadata": {},
   "outputs": [
    {
     "data": {
      "text/plain": [
       "StandardScaler()"
      ]
     },
     "execution_count": 23,
     "metadata": {},
     "output_type": "execute_result"
    }
   ],
   "source": [
    "scalerForTrainTest = StandardScaler()\n",
    "scalerForTrainTest.fit(x_train_New)"
   ]
  },
  {
   "cell_type": "code",
   "execution_count": 24,
   "metadata": {},
   "outputs": [],
   "source": [
    "# training set\n",
    "X_Train_scalerForTrain_new=scalerForTrainTest.transform(x_train_New)\n",
    "# testing set\n",
    "X_Test_scalerForTest_new=scalerForTrainTest.transform(x_test_New)\n"
   ]
  },
  {
   "cell_type": "code",
   "execution_count": 25,
   "metadata": {},
   "outputs": [
    {
     "name": "stdout",
     "output_type": "stream",
     "text": [
      "R^2 train =  0.5345141514116218\n",
      "R^2 test =  0.4469273842974749\n",
      "number of features used =  8\n"
     ]
    }
   ],
   "source": [
    "lasso = Lasso().fit(X_Train_scalerForTrain_new,y_train_New)\n",
    "print(\"R^2 train = \",lasso.score(X_Train_scalerForTrain_new,y_train_New))\n",
    "print(\"R^2 test = \",lasso.score(X_Test_scalerForTest_new,y_test_New))\n",
    "print(\"number of features used = \",np.sum(lasso.coef_!= 0))\n",
    "\n",
    "#print(\"The features used are\",New_Diabetes_data[lasso.coef_!=0])"
   ]
  },
  {
   "cell_type": "markdown",
   "metadata": {},
   "source": [
    "Observations:- \n",
    "    \n",
    "    \n",
    "    \n",
    "    1) When we check r^2 with scikit learn dataset we were getting 2 features \n",
    "    2) when we used web dataset for diabetes.data we are gettting 9 features\n",
    "    3) After applying standard scalar on scikit learn dataset of diabetes we are getting 8 features\n",
    "    4) After applying standard scalar on scikit learn dataset of diabetes we are getting 9 features"
   ]
  },
  {
   "cell_type": "markdown",
   "metadata": {},
   "source": [
    "Task 9:- \n",
    "\n",
    "Varying the parameter α in the Lasso, plot the test R2 vs the number of features used\n",
    "\n",
    "(i.e., those with non-zero coefficients). \n",
    "\n",
    "Try to make your plot as pretty as possible. \n",
    "\n",
    "(Obviously, it’s subjective.)\n",
    "\n",
    "Which point on the curve do you prefer? \n",
    "\n",
    "(There is no unique correct answer to this question.) \n",
    "\n",
    "Give a brief explanation of your preference"
   ]
  },
  {
   "cell_type": "markdown",
   "metadata": {},
   "source": [
    "# Graph with sklearn data"
   ]
  },
  {
   "cell_type": "code",
   "execution_count": 39,
   "metadata": {},
   "outputs": [
    {
     "data": {
      "image/png": "[encoded data removed]",
      "text/plain": [
       "<Figure size 432x288 with 1 Axes>"
      ]
     },
     "metadata": {
      "needs_background": "light"
     },
     "output_type": "display_data"
    }
   ],
   "source": [
    "%matplotlib inline\n",
    "import matplotlib.pyplot as plt\n",
    "score=np.zeros(8)\n",
    "features=np.zeros(8)\n",
    "count=0\n",
    "for i in [15,10,5,1,0.5,0.1,0.01,0.001]:\n",
    "    lasso=Lasso(alpha=i,max_iter=10000).fit(X_Train_scalerForTrain,y_train)\n",
    "    score[count]=lasso.score(X_Test_scalerForTest,y_test)\n",
    "    features[count]=np.sum(lasso.coef_!= 0)\n",
    "    count+=1\n",
    "plt.plot(score,features,color=\"red\", alpha=0.8, linewidth=2) \n",
    "plt.ylabel('Features') \n",
    "plt.xlabel('$R^2  $')\n",
    "plt.title(' $R^2$  vs Non-zero features Sklearn Diabetes dataset graph')\n",
    "plt.grid()"
   ]
  },
  {
   "cell_type": "markdown",
   "metadata": {},
   "source": [
    "#     Graph with Web file data"
   ]
  },
  {
   "cell_type": "code",
   "execution_count": 40,
   "metadata": {},
   "outputs": [
    {
     "data": {
      "image/png": "[encoded data removed]",
      "text/plain": [
       "<Figure size 432x288 with 1 Axes>"
      ]
     },
     "metadata": {
      "needs_background": "light"
     },
     "output_type": "display_data"
    }
   ],
   "source": [
    "%matplotlib inline\n",
    "import matplotlib.pyplot as plt\n",
    "score=np.zeros(9)\n",
    "features=np.zeros(9)\n",
    "count=0\n",
    "for i in [15,10,5,1,0.5,0.1,0.01,0.001,0.001]:\n",
    "    lasso=Lasso(alpha=i,max_iter=10000).fit(X_Train_scalerForTrain_new,y_train_New)\n",
    "    score[count]=lasso.score(X_Test_scalerForTest_new,y_test_New)\n",
    "    features[count]=np.sum(lasso.coef_!= 0)\n",
    "    count+=1\n",
    "plt.plot(score,features,color=\"Brown\", alpha=0.9, linewidth=2) \n",
    "plt.ylabel('features') \n",
    "plt.xlabel('$R^2$')\n",
    "\n",
    "plt.title(' $R^2$ vs Non-zero features Web diabetes dataset ')\n",
    "plt.grid()"
   ]
  },
  {
   "cell_type": "markdown",
   "metadata": {},
   "source": [
    "Number of feature used"
   ]
  },
  {
   "cell_type": "markdown",
   "metadata": {},
   "source": [
    "Obervations:- \n",
    "\n",
    "\n",
    "    Since we are handling 8 number of features in both the dataset,\n",
    "    it is fine to have a complex model that will not be too costly. \n",
    "    The point on the curve around(0.477,10) seems to be optimal\n",
    "    as it considered only 8 featureas to train and gives\n",
    "    high R square compared to other scores.\n",
    "    \n",
    "    "
   ]
  },
  {
   "cell_type": "markdown",
   "metadata": {},
   "source": [
    "# cross validation"
   ]
  },
  {
   "cell_type": "code",
   "execution_count": 41,
   "metadata": {},
   "outputs": [
    {
     "name": "stdout",
     "output_type": "stream",
     "text": [
      "optimal alpha 0.5\n",
      "R^2 training value =  0.5356321921708371\n",
      "R^2 testing value =  0.4464437200506147\n",
      "number of features used =  8\n"
     ]
    }
   ],
   "source": [
    "from sklearn.model_selection import GridSearchCV\n",
    "parameter={'alpha':[15,10,5,1,0.5,0.1,0.01,0.001,0.001]} #passing here different values of alpha\n",
    "parameter=GridSearchCV(estimator=Lasso(),param_grid=parameter,cv=5,n_jobs=-1) # why added n_jobs=-1 its because to avoid DeprecationWarning warning\n",
    "parameter=parameter.fit(X_Train_scalerForTrain_new, y_train_New)\n",
    "parameter=parameter.best_estimator_\n",
    "lasso = Lasso(alpha=parameter.alpha)\n",
    "lasso.fit(X_Train_scalerForTrain_new,y_train_New)\n",
    "print(\"optimal alpha\",parameter.alpha)\n",
    "print(\"R^2 training value = \",lasso.score(X_Train_scalerForTrain_new,y_train_New))\n",
    "print(\"R^2 testing value = \",lasso.score(X_Test_scalerForTest_new,y_test_New))\n",
    "print(\"number of features used = \",np.sum(lasso.coef_!= 0))"
   ]
  },
  {
   "cell_type": "markdown",
   "metadata": {},
   "source": [
    "Observations:-\n",
    "    \n",
    "    1) whenever we are considering normal dataset and checking features they are large i.e feature =9\n",
    "    2)whenever we are applying standard scalar and lasso features are getting reduced i.e feature=8\n",
    "    3) when we apply cross validation features are getting reduced i.e feature=8\n",
    "    \n",
    "    Feature 9 reduced to 8 when used standard scalar, cross validation"
   ]
  },
  {
   "cell_type": "markdown",
   "metadata": {},
   "source": [
    "# Implement an inductive conformal predictor"
   ]
  },
  {
   "cell_type": "markdown",
   "metadata": {},
   "source": [
    "Task 11:-\n",
    "\n",
    "\n",
    "Implement an inductive conformal predictor as follows:\n",
    "\n",
    "(a) Split the training set that you obtained in item 5 into two parts: the calibration set of size 99 and the rest of the training set (the training set proper). Use your birthday (in the format DDMM) as random_state."
   ]
  },
  {
   "cell_type": "code",
   "execution_count": 29,
   "metadata": {},
   "outputs": [],
   "source": [
    "X_train_inductive, X_test_inductive, y_train_inductive, y_test_inductive = train_test_split(X_New,Y_new, random_state=811)\n",
    "X_train_proper_inductive, X_calibration_inductive, y_train_proper_inductive, y_calibration_inductive = train_test_split(X_train_inductive,y_train_inductive,test_size=99,random_state=811)\n"
   ]
  },
  {
   "cell_type": "markdown",
   "metadata": {},
   "source": [
    "Task 11 (B):- \n",
    "\n",
    "Preprocess the training set proper, calibration set, and test set in the same way using StandardScaler. Namely, fit the scaler to the training set proper and then use it to transform all three."
   ]
  },
  {
   "cell_type": "code",
   "execution_count": 30,
   "metadata": {},
   "outputs": [],
   "source": [
    "scaler = StandardScaler()\n",
    "scaler.fit(X_train_proper_inductive)\n",
    "X_train_proper_scaled_inductive = scaler.transform(X_train_proper_inductive)\n",
    "X_calibration_scaled_inductive = scaler.transform(X_calibration_inductive)\n",
    "X_test_scaled_inductive = scaler.transform(X_test_inductive)\n"
   ]
  },
  {
   "cell_type": "code",
   "execution_count": 31,
   "metadata": {},
   "outputs": [
    {
     "data": {
      "text/plain": [
       "(232, 10)"
      ]
     },
     "execution_count": 31,
     "metadata": {},
     "output_type": "execute_result"
    }
   ],
   "source": [
    "X_train_proper_scaled_inductive.shape"
   ]
  },
  {
   "cell_type": "code",
   "execution_count": 32,
   "metadata": {},
   "outputs": [
    {
     "data": {
      "text/plain": [
       "(99, 10)"
      ]
     },
     "execution_count": 32,
     "metadata": {},
     "output_type": "execute_result"
    }
   ],
   "source": [
    "X_calibration_scaled_inductive.shape"
   ]
  },
  {
   "cell_type": "code",
   "execution_count": 33,
   "metadata": {},
   "outputs": [
    {
     "data": {
      "text/plain": [
       "(111, 10)"
      ]
     },
     "execution_count": 33,
     "metadata": {},
     "output_type": "execute_result"
    }
   ],
   "source": [
    "X_test_scaled_inductive.shape"
   ]
  },
  {
   "cell_type": "markdown",
   "metadata": {},
   "source": [
    "Cross validation for inductive"
   ]
  },
  {
   "cell_type": "code",
   "execution_count": 42,
   "metadata": {},
   "outputs": [],
   "source": [
    "Parameter={'alpha':[15,10,5,1,0.5,0.1,0.01,0.001,0.001]}\n",
    "Parameter=GridSearchCV(Lasso(),param_grid=Parameter,cv=10)\n",
    "Parameter=Parameter.fit(X_train_proper_scaled_inductive, y_train_proper_inductive)\n",
    "Parameter=Parameter.best_estimator_\n",
    "lasso=Lasso(alpha=Parameter.alpha).fit(X_train_proper_scaled_inductive, y_train_proper_inductive)\n",
    "pred_calibration = lasso.predict(X_calibration_scaled_inductive)\n",
    "pred_test=lasso.predict(X_test_scaled_inductive)"
   ]
  },
  {
   "cell_type": "markdown",
   "metadata": {},
   "source": [
    "# Do this for significance levels 5% and 20%. For each of these significance levels compute:"
   ]
  },
  {
   "cell_type": "markdown",
   "metadata": {},
   "source": [
    "Task 11 (C):-\n",
    "    \n",
    "    \n",
    "    Using the nonconformity measure \n",
    "    α = |y − yˆ|, where y is the true label and yˆ is its prediction given the training set proper,\n",
    "    for each test sample compute the prediction interval for it. \n",
    "    Do this for significance levels 5% and 20%. \n",
    "    \n",
    "    For each of these significance levels compute:\n",
    "        \n",
    "        1)  the length of the prediction intervals for the test samples\n",
    "\n",
    "        2) the test error rate of your inductive conformal predictor . For computing the predictions yˆ, \n",
    "           use the Lasso with parameters chosen by cross-validation on the training set proper."
   ]
  },
  {
   "cell_type": "markdown",
   "metadata": {},
   "source": [
    "# 5%"
   ]
  },
  {
   "cell_type": "code",
   "execution_count": 35,
   "metadata": {},
   "outputs": [
    {
     "name": "stdout",
     "output_type": "stream",
     "text": [
      "interval is  59.28262928345859\n",
      "test_error_rate is  0.15315315315315314\n"
     ]
    }
   ],
   "source": [
    "conform_scores=np.zeros(X_calibration_scaled_inductive.shape[0])\n",
    "for i in range(X_calibration_scaled_inductive.shape[0]):\n",
    "    conform_scores[i]=abs(y_calibration_inductive[i]-pred_calibration[i])\n",
    "    conform_scores=np.sort(conform_scores, axis=None) \n",
    "    k=(1-(5/100))*(X_calibration_scaled_inductive.shape[0]+1) # its given to calculate for 5\n",
    "    c=conform_scores[int(k)-1]\n",
    "    inter_test=[]\n",
    "    for i in range(X_test_inductive.shape[0]):\n",
    "        inter_test.append([pred_test[i]-c,pred_test[i]+c])\n",
    "    test=np.zeros(X_test_scaled_inductive.shape[0])\n",
    "    j=0\n",
    "    for i in inter_test:\n",
    "        if y_test[j]>=i[0]:\n",
    "            test[j]=1\n",
    "        else:\n",
    "            test[j]=0\n",
    "        j+=1 \n",
    "            \n",
    "print(\"interval is \",c) \n",
    "print(\"test_error_rate is \",(sum(test==0)/test.shape[0]))"
   ]
  },
  {
   "cell_type": "markdown",
   "metadata": {},
   "source": [
    "# 20%"
   ]
  },
  {
   "cell_type": "code",
   "execution_count": 36,
   "metadata": {},
   "outputs": [
    {
     "name": "stdout",
     "output_type": "stream",
     "text": [
      "interval is  30.388557245256067\n",
      "test_error_rate is  0.3333333333333333\n"
     ]
    }
   ],
   "source": [
    "conform_scores=np.zeros(X_calibration_scaled_inductive.shape[0])\n",
    "for i in range(X_calibration_scaled_inductive.shape[0]):\n",
    "    conform_scores[i]=abs(y_calibration_inductive[i]-pred_calibration[i])\n",
    "    conform_scores=np.sort(conform_scores, axis=None) \n",
    "    k=(1-(20/100))*(X_calibration_scaled_inductive.shape[0]+1) # its given to calculate for \n",
    "    c=conform_scores[int(k)-1]\n",
    "    inter_test=[]\n",
    "    for i in range(X_test_inductive.shape[0]):\n",
    "        inter_test.append([pred_test[i]-c,pred_test[i]+c])\n",
    "    test=np.zeros(X_test_scaled_inductive.shape[0])\n",
    "    j=0\n",
    "    for i in inter_test:\n",
    "        if y_test[j]>=i[0]:\n",
    "            test[j]=1\n",
    "        else:\n",
    "            test[j]=0\n",
    "        j+=1 \n",
    "            \n",
    "print(\"interval is \",c) \n",
    "print(\"test_error_rate is \",(sum(test==0)/test.shape[0]))"
   ]
  },
  {
   "cell_type": "markdown",
   "metadata": {},
   "source": [
    "Observation:- \n",
    "    \n",
    "    When we are passing the 5% of significance level we are getting less error rate with more intervals\n",
    "    \n",
    "    When we are passing the 10z% of significance level we are getting less intervals and more error as per above\n",
    "    \n",
    "    but overall error rate using inductive conformal predictor is less."
   ]
  },
  {
   "cell_type": "code",
   "execution_count": null,
   "metadata": {},
   "outputs": [],
   "source": []
  }
 ],
 "metadata": {
  "kernelspec": {
   "display_name": "Python 3",
   "language": "python",
   "name": "python3"
  },
  "language_info": {
   "codemirror_mode": {
    "name": "ipython",
    "version": 3
   },
   "file_extension": ".py",
   "mimetype": "text/x-python",
   "name": "python",
   "nbconvert_exporter": "python",
   "pygments_lexer": "ipython3",
   "version": "3.8.5"
  }
 },
 "nbformat": 4,
 "nbformat_minor": 4
}
